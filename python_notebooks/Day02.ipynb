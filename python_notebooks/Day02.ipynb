{
 "cells": [
  {
   "cell_type": "code",
   "execution_count": 1,
   "id": "7d2b7a1f",
   "metadata": {},
   "outputs": [],
   "source": [
    "import numpy as np\n",
    "import pandas as pd\n",
    "from utils import get_data_as_list"
   ]
  },
  {
   "cell_type": "code",
   "execution_count": 2,
   "id": "f82cf9e4",
   "metadata": {},
   "outputs": [
    {
     "data": {
      "text/plain": [
       "['forward 3',\n",
       " 'down 6',\n",
       " 'forward 7',\n",
       " 'down 4',\n",
       " 'down 8',\n",
       " 'down 6',\n",
       " 'down 4',\n",
       " 'down 6',\n",
       " 'forward 7',\n",
       " 'down 5',\n",
       " 'forward 1',\n",
       " 'up 7',\n",
       " 'up 6',\n",
       " 'down 1',\n",
       " 'down 2']"
      ]
     },
     "execution_count": 2,
     "metadata": {},
     "output_type": "execute_result"
    }
   ],
   "source": [
    "data_list = get_data_as_list(day=2)\n",
    "data_list[:15]"
   ]
  },
  {
   "cell_type": "code",
   "execution_count": 3,
   "id": "d58589b2",
   "metadata": {},
   "outputs": [],
   "source": [
    "df = pd.DataFrame({'values': data_list})"
   ]
  },
  {
   "cell_type": "code",
   "execution_count": 4,
   "id": "b29aa51b",
   "metadata": {},
   "outputs": [],
   "source": [
    "df = df['values'].str.split(expand = True)\n",
    "df = df.rename(columns={0: 'direction', 1: 'value'})"
   ]
  },
  {
   "cell_type": "code",
   "execution_count": 5,
   "id": "6453b119",
   "metadata": {},
   "outputs": [
    {
     "data": {
      "text/html": [
       "<div>\n",
       "<style scoped>\n",
       "    .dataframe tbody tr th:only-of-type {\n",
       "        vertical-align: middle;\n",
       "    }\n",
       "\n",
       "    .dataframe tbody tr th {\n",
       "        vertical-align: top;\n",
       "    }\n",
       "\n",
       "    .dataframe thead th {\n",
       "        text-align: right;\n",
       "    }\n",
       "</style>\n",
       "<table border=\"1\" class=\"dataframe\">\n",
       "  <thead>\n",
       "    <tr style=\"text-align: right;\">\n",
       "      <th></th>\n",
       "      <th>direction</th>\n",
       "      <th>value</th>\n",
       "    </tr>\n",
       "  </thead>\n",
       "  <tbody>\n",
       "    <tr>\n",
       "      <th>0</th>\n",
       "      <td>forward</td>\n",
       "      <td>3</td>\n",
       "    </tr>\n",
       "    <tr>\n",
       "      <th>1</th>\n",
       "      <td>down</td>\n",
       "      <td>6</td>\n",
       "    </tr>\n",
       "    <tr>\n",
       "      <th>2</th>\n",
       "      <td>forward</td>\n",
       "      <td>7</td>\n",
       "    </tr>\n",
       "    <tr>\n",
       "      <th>3</th>\n",
       "      <td>down</td>\n",
       "      <td>4</td>\n",
       "    </tr>\n",
       "    <tr>\n",
       "      <th>4</th>\n",
       "      <td>down</td>\n",
       "      <td>8</td>\n",
       "    </tr>\n",
       "  </tbody>\n",
       "</table>\n",
       "</div>"
      ],
      "text/plain": [
       "  direction value\n",
       "0   forward     3\n",
       "1      down     6\n",
       "2   forward     7\n",
       "3      down     4\n",
       "4      down     8"
      ]
     },
     "execution_count": 5,
     "metadata": {},
     "output_type": "execute_result"
    }
   ],
   "source": [
    "df.head()"
   ]
  },
  {
   "cell_type": "code",
   "execution_count": 6,
   "id": "a1bd45d9",
   "metadata": {},
   "outputs": [
    {
     "data": {
      "text/plain": [
       "direction    object\n",
       "value        object\n",
       "dtype: object"
      ]
     },
     "execution_count": 6,
     "metadata": {},
     "output_type": "execute_result"
    }
   ],
   "source": [
    "df.dtypes"
   ]
  },
  {
   "cell_type": "code",
   "execution_count": 7,
   "id": "558f2179",
   "metadata": {},
   "outputs": [],
   "source": [
    "df['value'] = df['value'].astype(int)"
   ]
  },
  {
   "cell_type": "code",
   "execution_count": 8,
   "id": "46c10c94",
   "metadata": {},
   "outputs": [
    {
     "data": {
      "text/plain": [
       "direction    object\n",
       "value         int32\n",
       "dtype: object"
      ]
     },
     "execution_count": 8,
     "metadata": {},
     "output_type": "execute_result"
    }
   ],
   "source": [
    "df.dtypes"
   ]
  },
  {
   "cell_type": "code",
   "execution_count": 9,
   "id": "26b7afcf",
   "metadata": {},
   "outputs": [
    {
     "data": {
      "text/html": [
       "<div>\n",
       "<style scoped>\n",
       "    .dataframe tbody tr th:only-of-type {\n",
       "        vertical-align: middle;\n",
       "    }\n",
       "\n",
       "    .dataframe tbody tr th {\n",
       "        vertical-align: top;\n",
       "    }\n",
       "\n",
       "    .dataframe thead th {\n",
       "        text-align: right;\n",
       "    }\n",
       "</style>\n",
       "<table border=\"1\" class=\"dataframe\">\n",
       "  <thead>\n",
       "    <tr style=\"text-align: right;\">\n",
       "      <th></th>\n",
       "      <th>direction</th>\n",
       "      <th>value</th>\n",
       "    </tr>\n",
       "  </thead>\n",
       "  <tbody>\n",
       "    <tr>\n",
       "      <th>0</th>\n",
       "      <td>down</td>\n",
       "      <td>2076</td>\n",
       "    </tr>\n",
       "    <tr>\n",
       "      <th>1</th>\n",
       "      <td>forward</td>\n",
       "      <td>1923</td>\n",
       "    </tr>\n",
       "    <tr>\n",
       "      <th>2</th>\n",
       "      <td>up</td>\n",
       "      <td>1075</td>\n",
       "    </tr>\n",
       "  </tbody>\n",
       "</table>\n",
       "</div>"
      ],
      "text/plain": [
       "  direction  value\n",
       "0      down   2076\n",
       "1   forward   1923\n",
       "2        up   1075"
      ]
     },
     "execution_count": 9,
     "metadata": {},
     "output_type": "execute_result"
    }
   ],
   "source": [
    "grouped = df.groupby('direction').sum().reset_index()\n",
    "grouped"
   ]
  },
  {
   "cell_type": "code",
   "execution_count": 10,
   "id": "3a2ca85c",
   "metadata": {},
   "outputs": [
    {
     "name": "stdout",
     "output_type": "stream",
     "text": [
      "solution to the first part is 1923 times 1001, so 1924923\n"
     ]
    }
   ],
   "source": [
    "x = grouped.loc[grouped['direction']=='forward', 'value'].values[0]\n",
    "down = grouped.loc[grouped['direction']=='down', 'value'].values[0]\n",
    "up = grouped.loc[grouped['direction']=='up', 'value'].values[0]\n",
    "y = down - up\n",
    "print(f'solution to the first part is {x} times {y}, so {x*y}')"
   ]
  },
  {
   "cell_type": "markdown",
   "id": "5661a25b",
   "metadata": {},
   "source": [
    "# second part"
   ]
  },
  {
   "cell_type": "markdown",
   "id": "548b3217",
   "metadata": {},
   "source": [
    "now the calculation gets more complicated: new variable called aim  \n",
    "- down adds to aim\n",
    "- up removes from aim\n",
    "- forward adds to horizontal, multiplies with aim then adds to depth"
   ]
  },
  {
   "cell_type": "code",
   "execution_count": 11,
   "id": "9ac3f9c7",
   "metadata": {},
   "outputs": [],
   "source": [
    "# start with example \n",
    "test_data = ['forward 5', 'down 5', 'forward 8', 'up 3', 'down 8', 'forward 2']\n",
    "test_df = pd.DataFrame({'values': test_data})\n",
    "test_df = test_df['values'].str.split(expand = True)\n",
    "test_df = test_df.rename(columns={0: 'direction', 1: 'value'})\n",
    "test_df['value'] = test_df['value'].astype(int)"
   ]
  },
  {
   "cell_type": "code",
   "execution_count": 12,
   "id": "37fac6a1",
   "metadata": {},
   "outputs": [],
   "source": [
    "def helper_depth(df):\n",
    "    depth = 0\n",
    "    aim = 0\n",
    "    for ind, row in df.iterrows():\n",
    "        if row.direction == 'forward': \n",
    "            depth += row.value * aim\n",
    "        elif row.direction == 'down':\n",
    "            aim += row.value\n",
    "        elif row.direction == 'up':\n",
    "            aim -= row.value\n",
    "    return depth"
   ]
  },
  {
   "cell_type": "code",
   "execution_count": 13,
   "id": "8559fb41",
   "metadata": {},
   "outputs": [
    {
     "data": {
      "text/plain": [
       "60"
      ]
     },
     "execution_count": 13,
     "metadata": {},
     "output_type": "execute_result"
    }
   ],
   "source": [
    "hor = test_df[test_df.direction == 'forward'].value.sum()\n",
    "depth = helper_depth(test_df)\n",
    "depth"
   ]
  },
  {
   "cell_type": "code",
   "execution_count": 14,
   "id": "559a79fb",
   "metadata": {},
   "outputs": [
    {
     "data": {
      "text/plain": [
       "15"
      ]
     },
     "execution_count": 14,
     "metadata": {},
     "output_type": "execute_result"
    }
   ],
   "source": [
    "hor"
   ]
  },
  {
   "cell_type": "markdown",
   "id": "dea6221e",
   "metadata": {},
   "source": [
    "now let's do it on the actual data"
   ]
  },
  {
   "cell_type": "code",
   "execution_count": 15,
   "id": "f529e679",
   "metadata": {},
   "outputs": [
    {
     "name": "stdout",
     "output_type": "stream",
     "text": [
      "solution to the first part is 1923 times 1030939, so 1982495697\n"
     ]
    }
   ],
   "source": [
    "x = df[df.direction == 'forward'].value.sum()\n",
    "y = helper_depth(df)\n",
    "print(f'solution to the first part is {x} times {y}, so {x*y}')"
   ]
  },
  {
   "cell_type": "markdown",
   "id": "60ddd637",
   "metadata": {},
   "source": [
    "yay, solved day 2 too!!"
   ]
  },
  {
   "cell_type": "code",
   "execution_count": null,
   "id": "9a962ec1",
   "metadata": {},
   "outputs": [],
   "source": []
  }
 ],
 "metadata": {
  "kernelspec": {
   "display_name": "Python 3 (ipykernel)",
   "language": "python",
   "name": "python3"
  },
  "language_info": {
   "codemirror_mode": {
    "name": "ipython",
    "version": 3
   },
   "file_extension": ".py",
   "mimetype": "text/x-python",
   "name": "python",
   "nbconvert_exporter": "python",
   "pygments_lexer": "ipython3",
   "version": "3.9.2"
  }
 },
 "nbformat": 4,
 "nbformat_minor": 5
}
