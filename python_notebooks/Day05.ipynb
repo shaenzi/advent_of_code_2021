{
 "cells": [
  {
   "cell_type": "code",
   "execution_count": 1,
   "id": "7d2b7a1f",
   "metadata": {},
   "outputs": [],
   "source": [
    "import numpy as np\n",
    "import pandas as pd\n",
    "from utils import get_data_as_list\n",
    "import re"
   ]
  },
  {
   "cell_type": "code",
   "execution_count": 2,
   "id": "f82cf9e4",
   "metadata": {},
   "outputs": [
    {
     "data": {
      "text/plain": [
       "['989,854 -> 521,854',\n",
       " '831,695 -> 402,266',\n",
       " '38,805 -> 306,537',\n",
       " '802,24 -> 802,824',\n",
       " '951,478 -> 951,758',\n",
       " '508,987 -> 508,868',\n",
       " '602,246 -> 108,246',\n",
       " '765,781 -> 76,92',\n",
       " '248,757 -> 644,361',\n",
       " '296,987 -> 296,958',\n",
       " '240,430 -> 240,36',\n",
       " '672,530 -> 156,14',\n",
       " '920,19 -> 425,514',\n",
       " '737,389 -> 859,389',\n",
       " '762,364 -> 468,364']"
      ]
     },
     "execution_count": 2,
     "metadata": {},
     "output_type": "execute_result"
    }
   ],
   "source": [
    "data_list = get_data_as_list(day=5)\n",
    "data_list[:15]"
   ]
  },
  {
   "cell_type": "code",
   "execution_count": 3,
   "id": "9f1d4852",
   "metadata": {},
   "outputs": [],
   "source": [
    "def get_df_from_list(data_list):\n",
    "    df = pd.DataFrame({'values': data_list})\n",
    "    \n",
    "    # split into first and second set of coordinates\n",
    "    df = df['values'].str.split(' -> ', expand=True)\n",
    "    \n",
    "    # split into x and y coordinates\n",
    "    df_1 = df[0].str.split(',', expand=True)\n",
    "    df_1 = df_1.rename(columns={0: 'x1', 1: 'y1'})\n",
    "    df_2 = df[1].str.split(',', expand=True)\n",
    "    df_2 = df_2.rename(columns={0: 'x2', 1: 'y2'})\n",
    "    df = pd.concat([df_1, df_2], axis=1)\n",
    "    df = df.astype(int)\n",
    "    return df"
   ]
  },
  {
   "cell_type": "code",
   "execution_count": null,
   "id": "3ce397ce",
   "metadata": {},
   "outputs": [],
   "source": []
  },
  {
   "cell_type": "code",
   "execution_count": 4,
   "id": "c445bac8",
   "metadata": {},
   "outputs": [],
   "source": [
    "df = get_df_from_list(data_list)"
   ]
  },
  {
   "cell_type": "code",
   "execution_count": 5,
   "id": "3bc75285",
   "metadata": {},
   "outputs": [
    {
     "data": {
      "text/html": [
       "<div>\n",
       "<style scoped>\n",
       "    .dataframe tbody tr th:only-of-type {\n",
       "        vertical-align: middle;\n",
       "    }\n",
       "\n",
       "    .dataframe tbody tr th {\n",
       "        vertical-align: top;\n",
       "    }\n",
       "\n",
       "    .dataframe thead th {\n",
       "        text-align: right;\n",
       "    }\n",
       "</style>\n",
       "<table border=\"1\" class=\"dataframe\">\n",
       "  <thead>\n",
       "    <tr style=\"text-align: right;\">\n",
       "      <th></th>\n",
       "      <th>x1</th>\n",
       "      <th>y1</th>\n",
       "      <th>x2</th>\n",
       "      <th>y2</th>\n",
       "    </tr>\n",
       "  </thead>\n",
       "  <tbody>\n",
       "    <tr>\n",
       "      <th>0</th>\n",
       "      <td>989</td>\n",
       "      <td>854</td>\n",
       "      <td>521</td>\n",
       "      <td>854</td>\n",
       "    </tr>\n",
       "    <tr>\n",
       "      <th>1</th>\n",
       "      <td>831</td>\n",
       "      <td>695</td>\n",
       "      <td>402</td>\n",
       "      <td>266</td>\n",
       "    </tr>\n",
       "    <tr>\n",
       "      <th>2</th>\n",
       "      <td>38</td>\n",
       "      <td>805</td>\n",
       "      <td>306</td>\n",
       "      <td>537</td>\n",
       "    </tr>\n",
       "    <tr>\n",
       "      <th>3</th>\n",
       "      <td>802</td>\n",
       "      <td>24</td>\n",
       "      <td>802</td>\n",
       "      <td>824</td>\n",
       "    </tr>\n",
       "    <tr>\n",
       "      <th>4</th>\n",
       "      <td>951</td>\n",
       "      <td>478</td>\n",
       "      <td>951</td>\n",
       "      <td>758</td>\n",
       "    </tr>\n",
       "    <tr>\n",
       "      <th>...</th>\n",
       "      <td>...</td>\n",
       "      <td>...</td>\n",
       "      <td>...</td>\n",
       "      <td>...</td>\n",
       "    </tr>\n",
       "    <tr>\n",
       "      <th>495</th>\n",
       "      <td>949</td>\n",
       "      <td>681</td>\n",
       "      <td>350</td>\n",
       "      <td>681</td>\n",
       "    </tr>\n",
       "    <tr>\n",
       "      <th>496</th>\n",
       "      <td>256</td>\n",
       "      <td>561</td>\n",
       "      <td>746</td>\n",
       "      <td>561</td>\n",
       "    </tr>\n",
       "    <tr>\n",
       "      <th>497</th>\n",
       "      <td>242</td>\n",
       "      <td>119</td>\n",
       "      <td>608</td>\n",
       "      <td>119</td>\n",
       "    </tr>\n",
       "    <tr>\n",
       "      <th>498</th>\n",
       "      <td>916</td>\n",
       "      <td>883</td>\n",
       "      <td>410</td>\n",
       "      <td>377</td>\n",
       "    </tr>\n",
       "    <tr>\n",
       "      <th>499</th>\n",
       "      <td>562</td>\n",
       "      <td>433</td>\n",
       "      <td>241</td>\n",
       "      <td>754</td>\n",
       "    </tr>\n",
       "  </tbody>\n",
       "</table>\n",
       "<p>500 rows × 4 columns</p>\n",
       "</div>"
      ],
      "text/plain": [
       "      x1   y1   x2   y2\n",
       "0    989  854  521  854\n",
       "1    831  695  402  266\n",
       "2     38  805  306  537\n",
       "3    802   24  802  824\n",
       "4    951  478  951  758\n",
       "..   ...  ...  ...  ...\n",
       "495  949  681  350  681\n",
       "496  256  561  746  561\n",
       "497  242  119  608  119\n",
       "498  916  883  410  377\n",
       "499  562  433  241  754\n",
       "\n",
       "[500 rows x 4 columns]"
      ]
     },
     "execution_count": 5,
     "metadata": {},
     "output_type": "execute_result"
    }
   ],
   "source": [
    "df"
   ]
  },
  {
   "cell_type": "code",
   "execution_count": 6,
   "id": "1b56565c",
   "metadata": {},
   "outputs": [
    {
     "data": {
      "text/plain": [
       "x1    989\n",
       "y1    989\n",
       "x2    988\n",
       "y2    987\n",
       "dtype: int32"
      ]
     },
     "execution_count": 6,
     "metadata": {},
     "output_type": "execute_result"
    }
   ],
   "source": [
    "df.max()"
   ]
  },
  {
   "cell_type": "markdown",
   "id": "ed3c7774",
   "metadata": {},
   "source": [
    "functions for finding vertical and horizonal lines given the start and end point"
   ]
  },
  {
   "cell_type": "code",
   "execution_count": 7,
   "id": "ecbad7a3",
   "metadata": {},
   "outputs": [],
   "source": [
    "def find_direction(two_values):\n",
    "    if two_values[1] > two_values[0]:\n",
    "        # steps are growing\n",
    "        step = 1\n",
    "    elif two_values[1] < two_values[0]:\n",
    "        step = -1\n",
    "    else:\n",
    "        step = 1\n",
    "    return step"
   ]
  },
  {
   "cell_type": "code",
   "execution_count": 8,
   "id": "05338d35",
   "metadata": {},
   "outputs": [],
   "source": [
    "def find_line_hor_ver_only(start_end_coordinates):\n",
    "    \"\"\"given the start (x1, y1) and end coordinates (x2, y2), find all the points in between \n",
    "    and return them as a df of x and y coordinates\n",
    "    \"\"\"\n",
    "    # ignore diagonal lines\n",
    "    if (start_end_coordinates['x1'] != start_end_coordinates['x2']) and \\\n",
    "    (start_end_coordinates['y1'] != start_end_coordinates['y2']):\n",
    "        return\n",
    "    \n",
    "    if start_end_coordinates['x1'] == start_end_coordinates['x2']:\n",
    "        step = find_direction([start_end_coordinates['y1'], start_end_coordinates['y2']])\n",
    "        y = np.arange(start=start_end_coordinates['y1'], stop=start_end_coordinates['y2'] + step, step=step)\n",
    "        x = [start_end_coordinates['x1']] * len(y)\n",
    "    elif start_end_coordinates['y1'] == start_end_coordinates['y2']:\n",
    "        step = find_direction([start_end_coordinates['x1'], start_end_coordinates['x2']])\n",
    "        x = np.arange(start=start_end_coordinates['x1'], stop=start_end_coordinates['x2'] + step, step=step)\n",
    "        y = [start_end_coordinates['y1']] * len(x)\n",
    "    \n",
    "    df = pd.DataFrame({'x': x, 'y': y})\n",
    "    \n",
    "    return df"
   ]
  },
  {
   "cell_type": "markdown",
   "id": "08cf34f2",
   "metadata": {},
   "source": [
    "find all the points of all the vertical and horizontal lines"
   ]
  },
  {
   "cell_type": "code",
   "execution_count": 9,
   "id": "812efdd5",
   "metadata": {},
   "outputs": [
    {
     "data": {
      "text/html": [
       "<div>\n",
       "<style scoped>\n",
       "    .dataframe tbody tr th:only-of-type {\n",
       "        vertical-align: middle;\n",
       "    }\n",
       "\n",
       "    .dataframe tbody tr th {\n",
       "        vertical-align: top;\n",
       "    }\n",
       "\n",
       "    .dataframe thead th {\n",
       "        text-align: right;\n",
       "    }\n",
       "</style>\n",
       "<table border=\"1\" class=\"dataframe\">\n",
       "  <thead>\n",
       "    <tr style=\"text-align: right;\">\n",
       "      <th></th>\n",
       "      <th>x</th>\n",
       "      <th>y</th>\n",
       "    </tr>\n",
       "  </thead>\n",
       "  <tbody>\n",
       "    <tr>\n",
       "      <th>0</th>\n",
       "      <td>989</td>\n",
       "      <td>854</td>\n",
       "    </tr>\n",
       "    <tr>\n",
       "      <th>1</th>\n",
       "      <td>988</td>\n",
       "      <td>854</td>\n",
       "    </tr>\n",
       "    <tr>\n",
       "      <th>2</th>\n",
       "      <td>987</td>\n",
       "      <td>854</td>\n",
       "    </tr>\n",
       "    <tr>\n",
       "      <th>3</th>\n",
       "      <td>986</td>\n",
       "      <td>854</td>\n",
       "    </tr>\n",
       "    <tr>\n",
       "      <th>4</th>\n",
       "      <td>985</td>\n",
       "      <td>854</td>\n",
       "    </tr>\n",
       "    <tr>\n",
       "      <th>5</th>\n",
       "      <td>984</td>\n",
       "      <td>854</td>\n",
       "    </tr>\n",
       "    <tr>\n",
       "      <th>6</th>\n",
       "      <td>983</td>\n",
       "      <td>854</td>\n",
       "    </tr>\n",
       "    <tr>\n",
       "      <th>7</th>\n",
       "      <td>982</td>\n",
       "      <td>854</td>\n",
       "    </tr>\n",
       "    <tr>\n",
       "      <th>8</th>\n",
       "      <td>981</td>\n",
       "      <td>854</td>\n",
       "    </tr>\n",
       "    <tr>\n",
       "      <th>9</th>\n",
       "      <td>980</td>\n",
       "      <td>854</td>\n",
       "    </tr>\n",
       "  </tbody>\n",
       "</table>\n",
       "</div>"
      ],
      "text/plain": [
       "     x    y\n",
       "0  989  854\n",
       "1  988  854\n",
       "2  987  854\n",
       "3  986  854\n",
       "4  985  854\n",
       "5  984  854\n",
       "6  983  854\n",
       "7  982  854\n",
       "8  981  854\n",
       "9  980  854"
      ]
     },
     "execution_count": 9,
     "metadata": {},
     "output_type": "execute_result"
    }
   ],
   "source": [
    "points_df = pd.DataFrame(columns = ['x', 'y'])\n",
    "for ind in np.arange(len(df)):\n",
    "    points = find_line_hor_ver_only(df.loc[ind, :])\n",
    "    points_df = points_df.append(points)\n",
    "points_df = points_df.astype(int)\n",
    "points_df = points_df.reset_index(drop=True)\n",
    "points_df.head(10)"
   ]
  },
  {
   "cell_type": "markdown",
   "id": "de2a8e42",
   "metadata": {},
   "source": [
    "now make a 'field' and mark all these points we found above.\n",
    "with values going up to 990, assume we have a field of 1000 by 1000, with indices from 0 to 999"
   ]
  },
  {
   "cell_type": "code",
   "execution_count": 10,
   "id": "ec4f8573",
   "metadata": {},
   "outputs": [],
   "source": [
    "field = np.zeros((1000, 1000))"
   ]
  },
  {
   "cell_type": "code",
   "execution_count": 11,
   "id": "c66abe49",
   "metadata": {},
   "outputs": [],
   "source": [
    "for ind in np.arange(len(points_df)):\n",
    "    x = points_df.loc[ind, 'x']\n",
    "    y = points_df.loc[ind, 'y']\n",
    "    field[x, y] = field[x, y] + 1"
   ]
  },
  {
   "cell_type": "code",
   "execution_count": 12,
   "id": "2fa68822",
   "metadata": {},
   "outputs": [
    {
     "data": {
      "text/plain": [
       "5169"
      ]
     },
     "execution_count": 12,
     "metadata": {},
     "output_type": "execute_result"
    }
   ],
   "source": [
    "solution = len(np.where(field > 1)[0])\n",
    "solution"
   ]
  },
  {
   "cell_type": "markdown",
   "id": "5661a25b",
   "metadata": {},
   "source": [
    "# second part\n"
   ]
  },
  {
   "cell_type": "code",
   "execution_count": 13,
   "id": "5ae46d85",
   "metadata": {},
   "outputs": [],
   "source": [
    "def find_line(start_end_coordinates):\n",
    "    \"\"\"given the start (x1, y1) and end coordinates (x2, y2), find all the points in between \n",
    "    and return them as a df of x and y coordinates\n",
    "    including diagonals\n",
    "    \"\"\"\n",
    "    if start_end_coordinates['x1'] == start_end_coordinates['x2']:\n",
    "        step = find_direction([start_end_coordinates['y1'], start_end_coordinates['y2']])\n",
    "        y = np.arange(start=start_end_coordinates['y1'], stop=start_end_coordinates['y2'] + step, step=step)\n",
    "        x = [start_end_coordinates['x1']] * len(y)\n",
    "    elif start_end_coordinates['y1'] == start_end_coordinates['y2']:\n",
    "        step = find_direction([start_end_coordinates['x1'], start_end_coordinates['x2']])\n",
    "        x = np.arange(start=start_end_coordinates['x1'], stop=start_end_coordinates['x2'] + step, step=step)\n",
    "        y = [start_end_coordinates['y1']] * len(x)\n",
    "    else:\n",
    "        step = find_direction([start_end_coordinates['x1'], start_end_coordinates['x2']])\n",
    "        x = np.arange(start=start_end_coordinates['x1'], stop=start_end_coordinates['x2'] + step, step=step)\n",
    "        step = find_direction([start_end_coordinates['y1'], start_end_coordinates['y2']])\n",
    "        y = np.arange(start=start_end_coordinates['y1'], stop=start_end_coordinates['y2'] + step, step=step)\n",
    "    \n",
    "    df = pd.DataFrame({'x': x, 'y': y})\n",
    "    \n",
    "    return df"
   ]
  },
  {
   "cell_type": "code",
   "execution_count": 14,
   "id": "96f52839",
   "metadata": {},
   "outputs": [
    {
     "data": {
      "text/html": [
       "<div>\n",
       "<style scoped>\n",
       "    .dataframe tbody tr th:only-of-type {\n",
       "        vertical-align: middle;\n",
       "    }\n",
       "\n",
       "    .dataframe tbody tr th {\n",
       "        vertical-align: top;\n",
       "    }\n",
       "\n",
       "    .dataframe thead th {\n",
       "        text-align: right;\n",
       "    }\n",
       "</style>\n",
       "<table border=\"1\" class=\"dataframe\">\n",
       "  <thead>\n",
       "    <tr style=\"text-align: right;\">\n",
       "      <th></th>\n",
       "      <th>x</th>\n",
       "      <th>y</th>\n",
       "    </tr>\n",
       "  </thead>\n",
       "  <tbody>\n",
       "    <tr>\n",
       "      <th>0</th>\n",
       "      <td>989</td>\n",
       "      <td>854</td>\n",
       "    </tr>\n",
       "    <tr>\n",
       "      <th>1</th>\n",
       "      <td>988</td>\n",
       "      <td>854</td>\n",
       "    </tr>\n",
       "    <tr>\n",
       "      <th>2</th>\n",
       "      <td>987</td>\n",
       "      <td>854</td>\n",
       "    </tr>\n",
       "    <tr>\n",
       "      <th>3</th>\n",
       "      <td>986</td>\n",
       "      <td>854</td>\n",
       "    </tr>\n",
       "    <tr>\n",
       "      <th>4</th>\n",
       "      <td>985</td>\n",
       "      <td>854</td>\n",
       "    </tr>\n",
       "    <tr>\n",
       "      <th>5</th>\n",
       "      <td>984</td>\n",
       "      <td>854</td>\n",
       "    </tr>\n",
       "    <tr>\n",
       "      <th>6</th>\n",
       "      <td>983</td>\n",
       "      <td>854</td>\n",
       "    </tr>\n",
       "    <tr>\n",
       "      <th>7</th>\n",
       "      <td>982</td>\n",
       "      <td>854</td>\n",
       "    </tr>\n",
       "    <tr>\n",
       "      <th>8</th>\n",
       "      <td>981</td>\n",
       "      <td>854</td>\n",
       "    </tr>\n",
       "    <tr>\n",
       "      <th>9</th>\n",
       "      <td>980</td>\n",
       "      <td>854</td>\n",
       "    </tr>\n",
       "  </tbody>\n",
       "</table>\n",
       "</div>"
      ],
      "text/plain": [
       "     x    y\n",
       "0  989  854\n",
       "1  988  854\n",
       "2  987  854\n",
       "3  986  854\n",
       "4  985  854\n",
       "5  984  854\n",
       "6  983  854\n",
       "7  982  854\n",
       "8  981  854\n",
       "9  980  854"
      ]
     },
     "execution_count": 14,
     "metadata": {},
     "output_type": "execute_result"
    }
   ],
   "source": [
    "points_df = pd.DataFrame(columns = ['x', 'y'])\n",
    "for ind in np.arange(len(df)):\n",
    "    points = find_line(df.loc[ind, :])\n",
    "    points_df = points_df.append(points)\n",
    "points_df = points_df.astype(int)\n",
    "points_df = points_df.reset_index(drop=True)\n",
    "points_df.head(10)"
   ]
  },
  {
   "cell_type": "code",
   "execution_count": 15,
   "id": "7539eafa",
   "metadata": {},
   "outputs": [],
   "source": [
    "field2 = np.zeros((1000, 1000))"
   ]
  },
  {
   "cell_type": "code",
   "execution_count": 16,
   "id": "82b0a060",
   "metadata": {},
   "outputs": [],
   "source": [
    "for ind in np.arange(len(points_df)):\n",
    "    x = points_df.loc[ind, 'x']\n",
    "    y = points_df.loc[ind, 'y']\n",
    "    field2[x, y] = field2[x, y] + 1"
   ]
  },
  {
   "cell_type": "code",
   "execution_count": 17,
   "id": "87ef1606",
   "metadata": {},
   "outputs": [
    {
     "data": {
      "text/plain": [
       "22083"
      ]
     },
     "execution_count": 17,
     "metadata": {},
     "output_type": "execute_result"
    }
   ],
   "source": [
    "solution = len(np.where(field2 > 1)[0])\n",
    "solution"
   ]
  },
  {
   "cell_type": "code",
   "execution_count": null,
   "id": "55bbd2e8",
   "metadata": {},
   "outputs": [],
   "source": []
  },
  {
   "cell_type": "markdown",
   "id": "b14b0592",
   "metadata": {},
   "source": [
    "# test data"
   ]
  },
  {
   "cell_type": "code",
   "execution_count": 18,
   "id": "2870c16d",
   "metadata": {},
   "outputs": [],
   "source": [
    "test_data = ['0,9 -> 5,9', '8,0 -> 0,8', '9,4 -> 3,4', '2,2 -> 2,1', '7,0 -> 7,4', '6,4 -> 2,0', \n",
    "             '0,9 -> 2,9', '3,4 -> 1,4', '0,0 -> 8,8', '5,5 -> 8,2']"
   ]
  },
  {
   "cell_type": "code",
   "execution_count": 19,
   "id": "4b295531",
   "metadata": {},
   "outputs": [
    {
     "data": {
      "text/html": [
       "<div>\n",
       "<style scoped>\n",
       "    .dataframe tbody tr th:only-of-type {\n",
       "        vertical-align: middle;\n",
       "    }\n",
       "\n",
       "    .dataframe tbody tr th {\n",
       "        vertical-align: top;\n",
       "    }\n",
       "\n",
       "    .dataframe thead th {\n",
       "        text-align: right;\n",
       "    }\n",
       "</style>\n",
       "<table border=\"1\" class=\"dataframe\">\n",
       "  <thead>\n",
       "    <tr style=\"text-align: right;\">\n",
       "      <th></th>\n",
       "      <th>x1</th>\n",
       "      <th>y1</th>\n",
       "      <th>x2</th>\n",
       "      <th>y2</th>\n",
       "    </tr>\n",
       "  </thead>\n",
       "  <tbody>\n",
       "    <tr>\n",
       "      <th>0</th>\n",
       "      <td>0</td>\n",
       "      <td>9</td>\n",
       "      <td>5</td>\n",
       "      <td>9</td>\n",
       "    </tr>\n",
       "    <tr>\n",
       "      <th>1</th>\n",
       "      <td>8</td>\n",
       "      <td>0</td>\n",
       "      <td>0</td>\n",
       "      <td>8</td>\n",
       "    </tr>\n",
       "    <tr>\n",
       "      <th>2</th>\n",
       "      <td>9</td>\n",
       "      <td>4</td>\n",
       "      <td>3</td>\n",
       "      <td>4</td>\n",
       "    </tr>\n",
       "    <tr>\n",
       "      <th>3</th>\n",
       "      <td>2</td>\n",
       "      <td>2</td>\n",
       "      <td>2</td>\n",
       "      <td>1</td>\n",
       "    </tr>\n",
       "    <tr>\n",
       "      <th>4</th>\n",
       "      <td>7</td>\n",
       "      <td>0</td>\n",
       "      <td>7</td>\n",
       "      <td>4</td>\n",
       "    </tr>\n",
       "  </tbody>\n",
       "</table>\n",
       "</div>"
      ],
      "text/plain": [
       "   x1  y1  x2  y2\n",
       "0   0   9   5   9\n",
       "1   8   0   0   8\n",
       "2   9   4   3   4\n",
       "3   2   2   2   1\n",
       "4   7   0   7   4"
      ]
     },
     "execution_count": 19,
     "metadata": {},
     "output_type": "execute_result"
    }
   ],
   "source": [
    "test_df = get_df_from_list(test_data)\n",
    "test_df.head()"
   ]
  },
  {
   "cell_type": "markdown",
   "id": "f9c16315",
   "metadata": {},
   "source": [
    "### part 1"
   ]
  },
  {
   "cell_type": "code",
   "execution_count": 20,
   "id": "6aebe5e2",
   "metadata": {},
   "outputs": [
    {
     "data": {
      "text/html": [
       "<div>\n",
       "<style scoped>\n",
       "    .dataframe tbody tr th:only-of-type {\n",
       "        vertical-align: middle;\n",
       "    }\n",
       "\n",
       "    .dataframe tbody tr th {\n",
       "        vertical-align: top;\n",
       "    }\n",
       "\n",
       "    .dataframe thead th {\n",
       "        text-align: right;\n",
       "    }\n",
       "</style>\n",
       "<table border=\"1\" class=\"dataframe\">\n",
       "  <thead>\n",
       "    <tr style=\"text-align: right;\">\n",
       "      <th></th>\n",
       "      <th>x</th>\n",
       "      <th>y</th>\n",
       "    </tr>\n",
       "  </thead>\n",
       "  <tbody>\n",
       "    <tr>\n",
       "      <th>0</th>\n",
       "      <td>0</td>\n",
       "      <td>9</td>\n",
       "    </tr>\n",
       "    <tr>\n",
       "      <th>1</th>\n",
       "      <td>1</td>\n",
       "      <td>9</td>\n",
       "    </tr>\n",
       "    <tr>\n",
       "      <th>2</th>\n",
       "      <td>2</td>\n",
       "      <td>9</td>\n",
       "    </tr>\n",
       "    <tr>\n",
       "      <th>3</th>\n",
       "      <td>3</td>\n",
       "      <td>9</td>\n",
       "    </tr>\n",
       "    <tr>\n",
       "      <th>4</th>\n",
       "      <td>4</td>\n",
       "      <td>9</td>\n",
       "    </tr>\n",
       "    <tr>\n",
       "      <th>5</th>\n",
       "      <td>5</td>\n",
       "      <td>9</td>\n",
       "    </tr>\n",
       "    <tr>\n",
       "      <th>6</th>\n",
       "      <td>9</td>\n",
       "      <td>4</td>\n",
       "    </tr>\n",
       "    <tr>\n",
       "      <th>7</th>\n",
       "      <td>8</td>\n",
       "      <td>4</td>\n",
       "    </tr>\n",
       "    <tr>\n",
       "      <th>8</th>\n",
       "      <td>7</td>\n",
       "      <td>4</td>\n",
       "    </tr>\n",
       "    <tr>\n",
       "      <th>9</th>\n",
       "      <td>6</td>\n",
       "      <td>4</td>\n",
       "    </tr>\n",
       "  </tbody>\n",
       "</table>\n",
       "</div>"
      ],
      "text/plain": [
       "   x  y\n",
       "0  0  9\n",
       "1  1  9\n",
       "2  2  9\n",
       "3  3  9\n",
       "4  4  9\n",
       "5  5  9\n",
       "6  9  4\n",
       "7  8  4\n",
       "8  7  4\n",
       "9  6  4"
      ]
     },
     "execution_count": 20,
     "metadata": {},
     "output_type": "execute_result"
    }
   ],
   "source": [
    "test_points_df = pd.DataFrame(columns = ['x', 'y'])\n",
    "for ind in np.arange(len(test_df)):\n",
    "    points = find_line_hor_ver_only(test_df.loc[ind, :])\n",
    "    test_points_df = test_points_df.append(points)\n",
    "test_points_df = test_points_df.astype(int)\n",
    "test_points_df = test_points_df.reset_index(drop=True)\n",
    "test_points_df.head(10)"
   ]
  },
  {
   "cell_type": "code",
   "execution_count": 21,
   "id": "987f131a",
   "metadata": {},
   "outputs": [],
   "source": [
    "test_array = np.zeros((10, 10))"
   ]
  },
  {
   "cell_type": "code",
   "execution_count": 22,
   "id": "79e9cd40",
   "metadata": {},
   "outputs": [],
   "source": [
    "for ind in np.arange(len(test_points_df)):\n",
    "    x = test_points_df.loc[ind, 'x']\n",
    "    y = test_points_df.loc[ind, 'y']\n",
    "    test_array[x, y] = test_array[x, y] + 1"
   ]
  },
  {
   "cell_type": "code",
   "execution_count": 23,
   "id": "b527d974",
   "metadata": {},
   "outputs": [
    {
     "data": {
      "text/plain": [
       "array([[0., 0., 0., 0., 0., 0., 0., 1., 0., 0.],\n",
       "       [0., 0., 1., 0., 0., 0., 0., 1., 0., 0.],\n",
       "       [0., 0., 1., 0., 0., 0., 0., 1., 0., 0.],\n",
       "       [0., 0., 0., 0., 0., 0., 0., 1., 0., 0.],\n",
       "       [0., 1., 1., 2., 1., 1., 1., 2., 1., 1.],\n",
       "       [0., 0., 0., 0., 0., 0., 0., 0., 0., 0.],\n",
       "       [0., 0., 0., 0., 0., 0., 0., 0., 0., 0.],\n",
       "       [0., 0., 0., 0., 0., 0., 0., 0., 0., 0.],\n",
       "       [0., 0., 0., 0., 0., 0., 0., 0., 0., 0.],\n",
       "       [2., 2., 2., 1., 1., 1., 0., 0., 0., 0.]])"
      ]
     },
     "execution_count": 23,
     "metadata": {},
     "output_type": "execute_result"
    }
   ],
   "source": [
    "test_array.T"
   ]
  },
  {
   "cell_type": "markdown",
   "id": "fc204cea",
   "metadata": {},
   "source": [
    "### part 2"
   ]
  },
  {
   "cell_type": "code",
   "execution_count": 24,
   "id": "dc46f5b6",
   "metadata": {},
   "outputs": [
    {
     "data": {
      "text/html": [
       "<div>\n",
       "<style scoped>\n",
       "    .dataframe tbody tr th:only-of-type {\n",
       "        vertical-align: middle;\n",
       "    }\n",
       "\n",
       "    .dataframe tbody tr th {\n",
       "        vertical-align: top;\n",
       "    }\n",
       "\n",
       "    .dataframe thead th {\n",
       "        text-align: right;\n",
       "    }\n",
       "</style>\n",
       "<table border=\"1\" class=\"dataframe\">\n",
       "  <thead>\n",
       "    <tr style=\"text-align: right;\">\n",
       "      <th></th>\n",
       "      <th>x</th>\n",
       "      <th>y</th>\n",
       "    </tr>\n",
       "  </thead>\n",
       "  <tbody>\n",
       "    <tr>\n",
       "      <th>0</th>\n",
       "      <td>0</td>\n",
       "      <td>9</td>\n",
       "    </tr>\n",
       "    <tr>\n",
       "      <th>1</th>\n",
       "      <td>1</td>\n",
       "      <td>9</td>\n",
       "    </tr>\n",
       "    <tr>\n",
       "      <th>2</th>\n",
       "      <td>2</td>\n",
       "      <td>9</td>\n",
       "    </tr>\n",
       "    <tr>\n",
       "      <th>3</th>\n",
       "      <td>3</td>\n",
       "      <td>9</td>\n",
       "    </tr>\n",
       "    <tr>\n",
       "      <th>4</th>\n",
       "      <td>4</td>\n",
       "      <td>9</td>\n",
       "    </tr>\n",
       "    <tr>\n",
       "      <th>5</th>\n",
       "      <td>5</td>\n",
       "      <td>9</td>\n",
       "    </tr>\n",
       "    <tr>\n",
       "      <th>6</th>\n",
       "      <td>8</td>\n",
       "      <td>0</td>\n",
       "    </tr>\n",
       "    <tr>\n",
       "      <th>7</th>\n",
       "      <td>7</td>\n",
       "      <td>1</td>\n",
       "    </tr>\n",
       "    <tr>\n",
       "      <th>8</th>\n",
       "      <td>6</td>\n",
       "      <td>2</td>\n",
       "    </tr>\n",
       "    <tr>\n",
       "      <th>9</th>\n",
       "      <td>5</td>\n",
       "      <td>3</td>\n",
       "    </tr>\n",
       "  </tbody>\n",
       "</table>\n",
       "</div>"
      ],
      "text/plain": [
       "   x  y\n",
       "0  0  9\n",
       "1  1  9\n",
       "2  2  9\n",
       "3  3  9\n",
       "4  4  9\n",
       "5  5  9\n",
       "6  8  0\n",
       "7  7  1\n",
       "8  6  2\n",
       "9  5  3"
      ]
     },
     "execution_count": 24,
     "metadata": {},
     "output_type": "execute_result"
    }
   ],
   "source": [
    "test_points_df = pd.DataFrame(columns = ['x', 'y'], dtype=int)\n",
    "for ind in np.arange(len(test_df)):\n",
    "    points = find_line(test_df.loc[ind, :])\n",
    "    test_points_df = test_points_df.append(points)\n",
    "test_points_df = test_points_df.reset_index(drop=True)\n",
    "test_points_df.head(10)"
   ]
  },
  {
   "cell_type": "code",
   "execution_count": 25,
   "id": "b1e927a7",
   "metadata": {},
   "outputs": [],
   "source": [
    "test_array = np.zeros((10, 10))"
   ]
  },
  {
   "cell_type": "code",
   "execution_count": 26,
   "id": "43003404",
   "metadata": {},
   "outputs": [],
   "source": [
    "for ind in np.arange(len(test_points_df)):\n",
    "    x = test_points_df.loc[ind, 'x']\n",
    "    y = test_points_df.loc[ind, 'y']\n",
    "    test_array[x, y] = test_array[x, y] + 1"
   ]
  },
  {
   "cell_type": "code",
   "execution_count": 27,
   "id": "ab9a27e8",
   "metadata": {},
   "outputs": [
    {
     "data": {
      "text/plain": [
       "array([[1., 0., 1., 0., 0., 0., 0., 1., 1., 0.],\n",
       "       [0., 1., 1., 1., 0., 0., 0., 2., 0., 0.],\n",
       "       [0., 0., 2., 0., 1., 0., 1., 1., 1., 0.],\n",
       "       [0., 0., 0., 1., 0., 2., 0., 2., 0., 0.],\n",
       "       [0., 1., 1., 2., 3., 1., 3., 2., 1., 1.],\n",
       "       [0., 0., 0., 1., 0., 2., 0., 0., 0., 0.],\n",
       "       [0., 0., 1., 0., 0., 0., 1., 0., 0., 0.],\n",
       "       [0., 1., 0., 0., 0., 0., 0., 1., 0., 0.],\n",
       "       [1., 0., 0., 0., 0., 0., 0., 0., 1., 0.],\n",
       "       [2., 2., 2., 1., 1., 1., 0., 0., 0., 0.]])"
      ]
     },
     "execution_count": 27,
     "metadata": {},
     "output_type": "execute_result"
    }
   ],
   "source": [
    "test_array.T"
   ]
  }
 ],
 "metadata": {
  "kernelspec": {
   "display_name": "Python 3 (ipykernel)",
   "language": "python",
   "name": "python3"
  },
  "language_info": {
   "codemirror_mode": {
    "name": "ipython",
    "version": 3
   },
   "file_extension": ".py",
   "mimetype": "text/x-python",
   "name": "python",
   "nbconvert_exporter": "python",
   "pygments_lexer": "ipython3",
   "version": "3.9.2"
  }
 },
 "nbformat": 4,
 "nbformat_minor": 5
}
