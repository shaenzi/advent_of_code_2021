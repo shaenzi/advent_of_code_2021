{
 "cells": [
  {
   "cell_type": "code",
   "execution_count": 1,
   "id": "7d2b7a1f",
   "metadata": {},
   "outputs": [],
   "source": [
    "import numpy as np\n",
    "import pandas as pd\n",
    "from utils import get_data_as_list\n",
    "import re"
   ]
  },
  {
   "cell_type": "code",
   "execution_count": 2,
   "id": "f82cf9e4",
   "metadata": {},
   "outputs": [
    {
     "data": {
      "text/plain": [
       "['111011001010',\n",
       " '010011101110',\n",
       " '110001001010',\n",
       " '001101011101',\n",
       " '110100000011',\n",
       " '010110110010',\n",
       " '101000110110',\n",
       " '010100000011',\n",
       " '111001101111',\n",
       " '111001100011',\n",
       " '000110000100',\n",
       " '111011110100',\n",
       " '010001100000',\n",
       " '100011000010',\n",
       " '001001111010']"
      ]
     },
     "execution_count": 2,
     "metadata": {},
     "output_type": "execute_result"
    }
   ],
   "source": [
    "data_list = get_data_as_list(day=3)\n",
    "data_list[:15]"
   ]
  },
  {
   "cell_type": "markdown",
   "id": "016f9b01",
   "metadata": {},
   "source": [
    "pandas.str split or explode do not seem to give me what I want directly, so go for an ugly list comprehension first"
   ]
  },
  {
   "cell_type": "code",
   "execution_count": 3,
   "id": "99377b45",
   "metadata": {},
   "outputs": [],
   "source": [
    "data_list = [(lambda x: ','.join(re.split('(\\d)', x)[1::2]))(x) for x in data_list]"
   ]
  },
  {
   "cell_type": "code",
   "execution_count": 4,
   "id": "63ceeff1",
   "metadata": {},
   "outputs": [
    {
     "data": {
      "text/html": [
       "<div>\n",
       "<style scoped>\n",
       "    .dataframe tbody tr th:only-of-type {\n",
       "        vertical-align: middle;\n",
       "    }\n",
       "\n",
       "    .dataframe tbody tr th {\n",
       "        vertical-align: top;\n",
       "    }\n",
       "\n",
       "    .dataframe thead th {\n",
       "        text-align: right;\n",
       "    }\n",
       "</style>\n",
       "<table border=\"1\" class=\"dataframe\">\n",
       "  <thead>\n",
       "    <tr style=\"text-align: right;\">\n",
       "      <th></th>\n",
       "      <th>0</th>\n",
       "      <th>1</th>\n",
       "      <th>2</th>\n",
       "      <th>3</th>\n",
       "      <th>4</th>\n",
       "      <th>5</th>\n",
       "      <th>6</th>\n",
       "      <th>7</th>\n",
       "      <th>8</th>\n",
       "      <th>9</th>\n",
       "      <th>10</th>\n",
       "      <th>11</th>\n",
       "    </tr>\n",
       "  </thead>\n",
       "  <tbody>\n",
       "    <tr>\n",
       "      <th>0</th>\n",
       "      <td>1</td>\n",
       "      <td>1</td>\n",
       "      <td>1</td>\n",
       "      <td>0</td>\n",
       "      <td>1</td>\n",
       "      <td>1</td>\n",
       "      <td>0</td>\n",
       "      <td>0</td>\n",
       "      <td>1</td>\n",
       "      <td>0</td>\n",
       "      <td>1</td>\n",
       "      <td>0</td>\n",
       "    </tr>\n",
       "    <tr>\n",
       "      <th>1</th>\n",
       "      <td>0</td>\n",
       "      <td>1</td>\n",
       "      <td>0</td>\n",
       "      <td>0</td>\n",
       "      <td>1</td>\n",
       "      <td>1</td>\n",
       "      <td>1</td>\n",
       "      <td>0</td>\n",
       "      <td>1</td>\n",
       "      <td>1</td>\n",
       "      <td>1</td>\n",
       "      <td>0</td>\n",
       "    </tr>\n",
       "    <tr>\n",
       "      <th>2</th>\n",
       "      <td>1</td>\n",
       "      <td>1</td>\n",
       "      <td>0</td>\n",
       "      <td>0</td>\n",
       "      <td>0</td>\n",
       "      <td>1</td>\n",
       "      <td>0</td>\n",
       "      <td>0</td>\n",
       "      <td>1</td>\n",
       "      <td>0</td>\n",
       "      <td>1</td>\n",
       "      <td>0</td>\n",
       "    </tr>\n",
       "    <tr>\n",
       "      <th>3</th>\n",
       "      <td>0</td>\n",
       "      <td>0</td>\n",
       "      <td>1</td>\n",
       "      <td>1</td>\n",
       "      <td>0</td>\n",
       "      <td>1</td>\n",
       "      <td>0</td>\n",
       "      <td>1</td>\n",
       "      <td>1</td>\n",
       "      <td>1</td>\n",
       "      <td>0</td>\n",
       "      <td>1</td>\n",
       "    </tr>\n",
       "    <tr>\n",
       "      <th>4</th>\n",
       "      <td>1</td>\n",
       "      <td>1</td>\n",
       "      <td>0</td>\n",
       "      <td>1</td>\n",
       "      <td>0</td>\n",
       "      <td>0</td>\n",
       "      <td>0</td>\n",
       "      <td>0</td>\n",
       "      <td>0</td>\n",
       "      <td>0</td>\n",
       "      <td>1</td>\n",
       "      <td>1</td>\n",
       "    </tr>\n",
       "  </tbody>\n",
       "</table>\n",
       "</div>"
      ],
      "text/plain": [
       "  0  1  2  3  4  5  6  7  8  9  10 11\n",
       "0  1  1  1  0  1  1  0  0  1  0  1  0\n",
       "1  0  1  0  0  1  1  1  0  1  1  1  0\n",
       "2  1  1  0  0  0  1  0  0  1  0  1  0\n",
       "3  0  0  1  1  0  1  0  1  1  1  0  1\n",
       "4  1  1  0  1  0  0  0  0  0  0  1  1"
      ]
     },
     "execution_count": 4,
     "metadata": {},
     "output_type": "execute_result"
    }
   ],
   "source": [
    "df = pd.DataFrame({'values': data_list})\n",
    "df = df['values'].str.split(',', expand = True)\n",
    "df.head()"
   ]
  },
  {
   "cell_type": "markdown",
   "id": "25e560f3",
   "metadata": {},
   "source": [
    "values for the gamma rate"
   ]
  },
  {
   "cell_type": "code",
   "execution_count": 5,
   "id": "b29aa51b",
   "metadata": {},
   "outputs": [],
   "source": [
    "gamma_string = ''.join(list(df.mode(axis=0).values[0]))"
   ]
  },
  {
   "cell_type": "code",
   "execution_count": 6,
   "id": "fc697612",
   "metadata": {},
   "outputs": [],
   "source": [
    "epsilon_bool = [not bool(int(x)) for x in gamma_string]"
   ]
  },
  {
   "cell_type": "code",
   "execution_count": 7,
   "id": "49882ca6",
   "metadata": {},
   "outputs": [],
   "source": [
    "epsilon_list = [str(int(x)) for x in epsilon_bool]\n",
    "epsilon_string = ''.join(epsilon_list)"
   ]
  },
  {
   "cell_type": "code",
   "execution_count": 8,
   "id": "9fd8c202",
   "metadata": {},
   "outputs": [],
   "source": [
    "gamma = int(gamma_string, base=2)"
   ]
  },
  {
   "cell_type": "code",
   "execution_count": 9,
   "id": "f05a3f55",
   "metadata": {},
   "outputs": [],
   "source": [
    "epsilon = int(epsilon_string, base=2)"
   ]
  },
  {
   "cell_type": "code",
   "execution_count": 10,
   "id": "88a4ab27",
   "metadata": {},
   "outputs": [
    {
     "data": {
      "text/plain": [
       "1025636"
      ]
     },
     "execution_count": 10,
     "metadata": {},
     "output_type": "execute_result"
    }
   ],
   "source": [
    "solution = gamma * epsilon\n",
    "solution"
   ]
  },
  {
   "cell_type": "markdown",
   "id": "5661a25b",
   "metadata": {},
   "source": [
    "# second part\n",
    "now need to look at the columns (i.e. bits): filter according to least/most common bit, and then continue with the next columns until only one number is left"
   ]
  },
  {
   "cell_type": "code",
   "execution_count": 11,
   "id": "ad4ddfcc",
   "metadata": {},
   "outputs": [],
   "source": [
    "def mode_like(array, choosing_mode=True): \n",
    "    \"\"\"function to calculate the mode for that particular binary problem\n",
    "    special compared to normal mode: what to do when the second value occurs\n",
    "    equally often\n",
    "    also with choice of whether to returh the mode or the other, less frequent value\n",
    "    \"\"\"\n",
    "    sum1 = sum(array == '1')\n",
    "    sum0 = sum(array == '0')\n",
    "    print(f'sum of 1s: {sum1}, sum Of0s: {sum0}')\n",
    "    if sum1 >= sum0:\n",
    "        mode = '1'\n",
    "        non_mode = '0'\n",
    "    else:\n",
    "        mode = '0'\n",
    "        non_mode = '1'\n",
    "    \n",
    "    if choosing_mode:\n",
    "        return mode\n",
    "    else:\n",
    "        return non_mode        "
   ]
  },
  {
   "cell_type": "code",
   "execution_count": 12,
   "id": "fb8aba46",
   "metadata": {},
   "outputs": [],
   "source": [
    "def mode_helper(df, choosing_mode):\n",
    "    my_mode_value = mode_like(df[df.columns[0]], choosing_mode)\n",
    "    new_df = df[df[df.columns[0]] == my_mode_value].drop(columns=df.columns[0])\n",
    "    return my_mode_value, new_df"
   ]
  },
  {
   "cell_type": "code",
   "execution_count": 13,
   "id": "1577a72e",
   "metadata": {},
   "outputs": [],
   "source": [
    "df_storage = df.copy(deep=True)\n",
    "my_num = []"
   ]
  },
  {
   "cell_type": "code",
   "execution_count": 14,
   "id": "7731b642",
   "metadata": {},
   "outputs": [
    {
     "name": "stdout",
     "output_type": "stream",
     "text": [
      "sum of 1s: 501, sum Of0s: 499\n",
      "501\n",
      "sum of 1s: 257, sum Of0s: 244\n",
      "257\n",
      "sum of 1s: 126, sum Of0s: 131\n",
      "131\n",
      "sum of 1s: 62, sum Of0s: 69\n",
      "69\n",
      "sum of 1s: 29, sum Of0s: 40\n",
      "40\n",
      "sum of 1s: 19, sum Of0s: 21\n",
      "21\n",
      "sum of 1s: 7, sum Of0s: 14\n",
      "14\n",
      "sum of 1s: 7, sum Of0s: 7\n",
      "7\n",
      "sum of 1s: 3, sum Of0s: 4\n",
      "4\n",
      "sum of 1s: 1, sum Of0s: 3\n",
      "3\n",
      "sum of 1s: 1, sum Of0s: 2\n",
      "2\n",
      "sum of 1s: 1, sum Of0s: 1\n",
      "1\n"
     ]
    }
   ],
   "source": [
    "while len(df) > 1:\n",
    "    my_val, df = mode_helper(df, True)\n",
    "    my_num.append(my_val)\n",
    "    print(len(df))"
   ]
  },
  {
   "cell_type": "code",
   "execution_count": 15,
   "id": "2073fd65",
   "metadata": {},
   "outputs": [
    {
     "data": {
      "text/plain": [
       "['1', '1', '0', '0', '0', '0', '0', '1', '0', '0', '0', '1']"
      ]
     },
     "execution_count": 15,
     "metadata": {},
     "output_type": "execute_result"
    }
   ],
   "source": [
    "my_num"
   ]
  },
  {
   "cell_type": "code",
   "execution_count": 16,
   "id": "b6bac6ae",
   "metadata": {},
   "outputs": [
    {
     "data": {
      "text/html": [
       "<div>\n",
       "<style scoped>\n",
       "    .dataframe tbody tr th:only-of-type {\n",
       "        vertical-align: middle;\n",
       "    }\n",
       "\n",
       "    .dataframe tbody tr th {\n",
       "        vertical-align: top;\n",
       "    }\n",
       "\n",
       "    .dataframe thead th {\n",
       "        text-align: right;\n",
       "    }\n",
       "</style>\n",
       "<table border=\"1\" class=\"dataframe\">\n",
       "  <thead>\n",
       "    <tr style=\"text-align: right;\">\n",
       "      <th></th>\n",
       "    </tr>\n",
       "  </thead>\n",
       "  <tbody>\n",
       "    <tr>\n",
       "      <th>307</th>\n",
       "    </tr>\n",
       "  </tbody>\n",
       "</table>\n",
       "</div>"
      ],
      "text/plain": [
       "Empty DataFrame\n",
       "Columns: []\n",
       "Index: [307]"
      ]
     },
     "execution_count": 16,
     "metadata": {},
     "output_type": "execute_result"
    }
   ],
   "source": [
    "df"
   ]
  },
  {
   "cell_type": "code",
   "execution_count": 17,
   "id": "41520b78",
   "metadata": {},
   "outputs": [],
   "source": [
    "oxygen_gen_index = df.index[0]"
   ]
  },
  {
   "cell_type": "code",
   "execution_count": 18,
   "id": "4b0b73a0",
   "metadata": {},
   "outputs": [],
   "source": [
    "oxygen_gen_string = ''.join(df_storage.iloc[oxygen_gen_index, :].values)"
   ]
  },
  {
   "cell_type": "code",
   "execution_count": 19,
   "id": "3a555703",
   "metadata": {},
   "outputs": [],
   "source": [
    "df2 = df_storage.copy(deep=True)\n",
    "my_num2 = []"
   ]
  },
  {
   "cell_type": "code",
   "execution_count": 20,
   "id": "45225ddb",
   "metadata": {},
   "outputs": [
    {
     "name": "stdout",
     "output_type": "stream",
     "text": [
      "sum of 1s: 501, sum Of0s: 499\n",
      "length of remaining df: 499\n",
      "sum of 1s: 250, sum Of0s: 249\n",
      "length of remaining df: 249\n",
      "sum of 1s: 133, sum Of0s: 116\n",
      "length of remaining df: 116\n",
      "sum of 1s: 57, sum Of0s: 59\n",
      "length of remaining df: 57\n",
      "sum of 1s: 30, sum Of0s: 27\n",
      "length of remaining df: 27\n",
      "sum of 1s: 16, sum Of0s: 11\n",
      "length of remaining df: 11\n",
      "sum of 1s: 6, sum Of0s: 5\n",
      "length of remaining df: 5\n",
      "sum of 1s: 3, sum Of0s: 2\n",
      "length of remaining df: 2\n",
      "sum of 1s: 1, sum Of0s: 1\n",
      "length of remaining df: 1\n"
     ]
    }
   ],
   "source": [
    "while len(df2) > 1:\n",
    "    my_val, df2 = mode_helper(df2, False)\n",
    "    my_num2.append(my_val)\n",
    "    print(f'length of remaining df: {len(df2)}')"
   ]
  },
  {
   "cell_type": "code",
   "execution_count": 21,
   "id": "9957297e",
   "metadata": {},
   "outputs": [
    {
     "data": {
      "text/html": [
       "<div>\n",
       "<style scoped>\n",
       "    .dataframe tbody tr th:only-of-type {\n",
       "        vertical-align: middle;\n",
       "    }\n",
       "\n",
       "    .dataframe tbody tr th {\n",
       "        vertical-align: top;\n",
       "    }\n",
       "\n",
       "    .dataframe thead th {\n",
       "        text-align: right;\n",
       "    }\n",
       "</style>\n",
       "<table border=\"1\" class=\"dataframe\">\n",
       "  <thead>\n",
       "    <tr style=\"text-align: right;\">\n",
       "      <th></th>\n",
       "      <th>9</th>\n",
       "      <th>10</th>\n",
       "      <th>11</th>\n",
       "    </tr>\n",
       "  </thead>\n",
       "  <tbody>\n",
       "    <tr>\n",
       "      <th>625</th>\n",
       "      <td>0</td>\n",
       "      <td>0</td>\n",
       "      <td>1</td>\n",
       "    </tr>\n",
       "  </tbody>\n",
       "</table>\n",
       "</div>"
      ],
      "text/plain": [
       "    9  10 11\n",
       "625  0  0  1"
      ]
     },
     "execution_count": 21,
     "metadata": {},
     "output_type": "execute_result"
    }
   ],
   "source": [
    "df2"
   ]
  },
  {
   "cell_type": "code",
   "execution_count": 22,
   "id": "1a1e1168",
   "metadata": {},
   "outputs": [],
   "source": [
    "co2_scrubber_index = df2.index[0]"
   ]
  },
  {
   "cell_type": "code",
   "execution_count": 23,
   "id": "7f9e2a46",
   "metadata": {},
   "outputs": [],
   "source": [
    "co2_scrubber_string = ''.join(df_storage.iloc[co2_scrubber_index, :].values)"
   ]
  },
  {
   "cell_type": "code",
   "execution_count": 24,
   "id": "5588eecd",
   "metadata": {},
   "outputs": [
    {
     "data": {
      "text/plain": [
       "793873"
      ]
     },
     "execution_count": 24,
     "metadata": {},
     "output_type": "execute_result"
    }
   ],
   "source": [
    "int(oxygen_gen_string, base=2) * int(co2_scrubber_string, base=2)"
   ]
  },
  {
   "cell_type": "markdown",
   "id": "f6ab70a8",
   "metadata": {},
   "source": [
    "finally!"
   ]
  },
  {
   "cell_type": "code",
   "execution_count": null,
   "id": "59749bf3",
   "metadata": {},
   "outputs": [],
   "source": []
  }
 ],
 "metadata": {
  "kernelspec": {
   "display_name": "Python 3 (ipykernel)",
   "language": "python",
   "name": "python3"
  },
  "language_info": {
   "codemirror_mode": {
    "name": "ipython",
    "version": 3
   },
   "file_extension": ".py",
   "mimetype": "text/x-python",
   "name": "python",
   "nbconvert_exporter": "python",
   "pygments_lexer": "ipython3",
   "version": "3.9.2"
  }
 },
 "nbformat": 4,
 "nbformat_minor": 5
}
