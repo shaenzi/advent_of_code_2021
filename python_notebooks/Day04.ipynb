{
 "cells": [
  {
   "cell_type": "code",
   "execution_count": 1,
   "id": "7d2b7a1f",
   "metadata": {},
   "outputs": [],
   "source": [
    "import numpy as np\n",
    "import pandas as pd\n",
    "from utils import get_data_as_list\n",
    "import re"
   ]
  },
  {
   "cell_type": "code",
   "execution_count": 2,
   "id": "f82cf9e4",
   "metadata": {},
   "outputs": [
    {
     "data": {
      "text/plain": [
       "['4,77,78,12,91,82,48,59,28,26,34,10,71,89,54,63,66,75,15,22,39,55,83,47,81,74,2,46,25,98,29,21,85,96,3,16,60,31,99,86,52,17,69,27,73,49,95,35,9,53,64,88,37,72,92,70,5,65,79,61,38,14,7,44,43,8,42,45,23,41,57,80,51,90,84,11,93,40,50,33,56,67,68,32,6,94,97,13,87,30,18,76,36,24,19,20,1,0,58,62',\n",
       " '',\n",
       " '34 90 18 33 83',\n",
       " '27  7 25 61 15',\n",
       " '43  5 51 32 45',\n",
       " '24 17 72 31 22',\n",
       " '77 46 78 16  9',\n",
       " '',\n",
       " '72 95 37 52 68',\n",
       " '80  1 73 96 63',\n",
       " '16 49  9 42 97',\n",
       " '25 81 20 11 46',\n",
       " '31 24  2 34 18',\n",
       " '',\n",
       " '88 29 95 98 57']"
      ]
     },
     "execution_count": 2,
     "metadata": {},
     "output_type": "execute_result"
    }
   ],
   "source": [
    "data_list = get_data_as_list(day=4)\n",
    "data_list[:15]"
   ]
  },
  {
   "cell_type": "code",
   "execution_count": 3,
   "id": "c2436f36",
   "metadata": {},
   "outputs": [],
   "source": [
    "# get the randomly drawn numbers as list of numbers\n",
    "drawn_nrs = [int(x) for x in data_list[0].split(',')]"
   ]
  },
  {
   "cell_type": "code",
   "execution_count": 4,
   "id": "a44d7ab5",
   "metadata": {},
   "outputs": [
    {
     "data": {
      "text/plain": [
       "'4,77,78,12,91,82,48,59,28,26,34,10,71,89,54,63,66,75,15,22,39,55,83,47,81,74,2,46,25,98,29,21,85,96,3,16,60,31,99,86,52,17,69,27,73,49,95,35,9,53,64,88,37,72,92,70,5,65,79,61,38,14,7,44,43,8,42,45,23,41,57,80,51,90,84,11,93,40,50,33,56,67,68,32,6,94,97,13,87,30,18,76,36,24,19,20,1,0,58,62'"
      ]
     },
     "execution_count": 4,
     "metadata": {},
     "output_type": "execute_result"
    }
   ],
   "source": [
    "# make sure the rest of the data is homogeneous\n",
    "data_list.pop(0)"
   ]
  },
  {
   "cell_type": "code",
   "execution_count": 5,
   "id": "9f1d4852",
   "metadata": {},
   "outputs": [],
   "source": [
    "def get_df_from_list(data_list):\n",
    "    df = pd.DataFrame({'values': data_list})\n",
    "    df = df['values'].str.split(expand=True)\n",
    "    # drop rows with none\n",
    "    df = df.dropna()\n",
    "    df = df.astype(float)\n",
    "    return df"
   ]
  },
  {
   "cell_type": "code",
   "execution_count": null,
   "id": "3ce397ce",
   "metadata": {},
   "outputs": [],
   "source": []
  },
  {
   "cell_type": "code",
   "execution_count": 6,
   "id": "c445bac8",
   "metadata": {},
   "outputs": [],
   "source": [
    "df = get_df_from_list(data_list)"
   ]
  },
  {
   "cell_type": "code",
   "execution_count": 7,
   "id": "af266e10",
   "metadata": {},
   "outputs": [],
   "source": [
    "# make an array with 5x5 shapes\n",
    "my_array = df.values.reshape(100,5,5)"
   ]
  },
  {
   "cell_type": "code",
   "execution_count": 8,
   "id": "33cf4001",
   "metadata": {},
   "outputs": [
    {
     "data": {
      "text/plain": [
       "numpy.float64"
      ]
     },
     "execution_count": 8,
     "metadata": {},
     "output_type": "execute_result"
    }
   ],
   "source": [
    "type(my_array[1][1][1])"
   ]
  },
  {
   "cell_type": "code",
   "execution_count": null,
   "id": "8b853a33",
   "metadata": {},
   "outputs": [],
   "source": []
  },
  {
   "cell_type": "code",
   "execution_count": 9,
   "id": "7205cc4f",
   "metadata": {},
   "outputs": [],
   "source": [
    "def check_one_board(array_5_5):\n",
    "    \n",
    "    for ind in np.arange(5):\n",
    "        # check rows\n",
    "        if sum(np.isnan(array_5_5[ind,:])) == 5:\n",
    "            return True\n",
    "        # check columns\n",
    "        elif sum(np.isnan(array_5_5[:, ind])) == 5:\n",
    "            return True\n",
    "        \n",
    "    return False"
   ]
  },
  {
   "cell_type": "code",
   "execution_count": 10,
   "id": "b9a015da",
   "metadata": {},
   "outputs": [],
   "source": [
    "test_board = np.array([[1, 2, 3, 4, 5], [1, 2, 3, 4, 5], \n",
    "                      [1, 2, 3, 4, 5], [1, 2, 3, 4, 5],\n",
    "                      [1,2,3,4,5]])"
   ]
  },
  {
   "cell_type": "code",
   "execution_count": 11,
   "id": "a8532da1",
   "metadata": {},
   "outputs": [
    {
     "data": {
      "text/plain": [
       "False"
      ]
     },
     "execution_count": 11,
     "metadata": {},
     "output_type": "execute_result"
    }
   ],
   "source": [
    "check_one_board(test_board)"
   ]
  },
  {
   "cell_type": "code",
   "execution_count": 12,
   "id": "d9693e8f",
   "metadata": {},
   "outputs": [],
   "source": [
    "test_board_2 = np.array([[1, 2, 3, 4, 5], [1, 2, 3, 4, 5], \n",
    "                      [1, 2, 3, 4, 5], [1, 2, 3, 4, 5],\n",
    "                      [np.nan, np.nan, np.nan, np.nan, np.nan]])"
   ]
  },
  {
   "cell_type": "code",
   "execution_count": 13,
   "id": "d7c9b3cf",
   "metadata": {},
   "outputs": [
    {
     "data": {
      "text/plain": [
       "True"
      ]
     },
     "execution_count": 13,
     "metadata": {},
     "output_type": "execute_result"
    }
   ],
   "source": [
    "check_one_board(test_board_2)"
   ]
  },
  {
   "cell_type": "code",
   "execution_count": 14,
   "id": "1b3e4142",
   "metadata": {},
   "outputs": [],
   "source": [
    "test_board_3 = np.array([[np.nan, 2, 3, 4, 5], [np.nan, 2, 3, 4, 5], \n",
    "                      [np.nan, 2, 3, 4, 5], [np.nan, 2, 3, 4, 5],\n",
    "                      [np.nan,2,3,4,5]])"
   ]
  },
  {
   "cell_type": "code",
   "execution_count": 15,
   "id": "a5fbd6d9",
   "metadata": {},
   "outputs": [
    {
     "data": {
      "text/plain": [
       "True"
      ]
     },
     "execution_count": 15,
     "metadata": {},
     "output_type": "execute_result"
    }
   ],
   "source": [
    "check_one_board(test_board_3)"
   ]
  },
  {
   "cell_type": "code",
   "execution_count": 16,
   "id": "73978613",
   "metadata": {},
   "outputs": [],
   "source": [
    "def check_all_boards(my_array):\n",
    "    for board in np.arange(100):\n",
    "        if check_one_board(my_array[board, :, :]):\n",
    "            print(f\"board {board} has bingo!\")\n",
    "            return board"
   ]
  },
  {
   "cell_type": "code",
   "execution_count": 17,
   "id": "ebeed1ee",
   "metadata": {
    "scrolled": true
   },
   "outputs": [
    {
     "name": "stdout",
     "output_type": "stream",
     "text": [
      "board 46 has bingo!\n"
     ]
    }
   ],
   "source": [
    "# go through the drawn numbers\n",
    "for nr in drawn_nrs:\n",
    "    my_array[np.where(my_array == nr)] = np.nan\n",
    "    winning_board = check_all_boards(my_array)\n",
    "    if winning_board != None:\n",
    "        break\n",
    "        "
   ]
  },
  {
   "cell_type": "code",
   "execution_count": 18,
   "id": "afa2f831",
   "metadata": {},
   "outputs": [
    {
     "data": {
      "text/plain": [
       "69579.0"
      ]
     },
     "execution_count": 18,
     "metadata": {},
     "output_type": "execute_result"
    }
   ],
   "source": [
    "solution = np.nansum(my_array[winning_board, :, :]) * nr\n",
    "solution"
   ]
  },
  {
   "cell_type": "markdown",
   "id": "5661a25b",
   "metadata": {},
   "source": [
    "# second part\n",
    "now we want to lose ;-) i.e. find the last board that would win"
   ]
  },
  {
   "cell_type": "code",
   "execution_count": 19,
   "id": "7fbd67e9",
   "metadata": {},
   "outputs": [],
   "source": [
    "# get original array again\n",
    "df = get_df_from_list(data_list)\n",
    "my_array = df.values.reshape(100,5,5)"
   ]
  },
  {
   "cell_type": "code",
   "execution_count": 20,
   "id": "8c8ddbfa",
   "metadata": {},
   "outputs": [
    {
     "data": {
      "text/plain": [
       "array([[34., 90., 18., 33., 83.],\n",
       "       [27.,  7., 25., 61., 15.],\n",
       "       [43.,  5., 51., 32., 45.],\n",
       "       [24., 17., 72., 31., 22.],\n",
       "       [77., 46., 78., 16.,  9.]])"
      ]
     },
     "execution_count": 20,
     "metadata": {},
     "output_type": "execute_result"
    }
   ],
   "source": [
    "my_array[0,:,:]"
   ]
  },
  {
   "cell_type": "markdown",
   "id": "9264b808",
   "metadata": {},
   "source": [
    "need to modify the check_all_boards as well as the going through the numbers"
   ]
  },
  {
   "cell_type": "code",
   "execution_count": 21,
   "id": "b2f25189",
   "metadata": {},
   "outputs": [],
   "source": [
    "def check_all_boards_already_won(my_array, boards_already_won):\n",
    "    winning_boards_this_round = []\n",
    "    for board in np.arange(100):\n",
    "        if board in boards_already_won:\n",
    "            continue\n",
    "        if check_one_board(my_array[board, :, :]):\n",
    "            winning_boards_this_round.append(board) # several boards can win in the same round!\n",
    "    return winning_boards_this_round"
   ]
  },
  {
   "cell_type": "code",
   "execution_count": 22,
   "id": "02435f2f",
   "metadata": {},
   "outputs": [
    {
     "name": "stdout",
     "output_type": "stream",
     "text": [
      "[]\n",
      "[]\n",
      "[]\n",
      "[]\n",
      "[]\n",
      "[]\n",
      "[]\n",
      "[]\n",
      "[]\n",
      "[]\n",
      "[]\n",
      "[]\n",
      "[]\n",
      "[]\n",
      "[]\n",
      "[]\n",
      "[]\n",
      "[]\n",
      "[]\n",
      "[]\n",
      "[]\n",
      "[]\n",
      "[]\n",
      "[]\n",
      "[46]\n",
      "[]\n",
      "[]\n",
      "[]\n",
      "[]\n",
      "[]\n",
      "[56]\n",
      "[]\n",
      "[]\n",
      "[]\n",
      "[]\n",
      "[]\n",
      "[8]\n",
      "[]\n",
      "[29, 39, 74]\n",
      "[]\n",
      "[]\n",
      "[]\n",
      "[57]\n",
      "[15, 72]\n",
      "[24, 53, 89]\n",
      "[28, 37, 82]\n",
      "[23, 49, 98]\n",
      "[]\n",
      "[0, 22, 43, 45]\n",
      "[5]\n",
      "[67]\n",
      "[]\n",
      "[]\n",
      "[64, 94]\n",
      "[63]\n",
      "[7, 16, 17, 97]\n",
      "[33, 48, 54, 68, 81]\n",
      "[14, 65, 93]\n",
      "[34, 62]\n",
      "[11, 18, 58, 85, 96]\n",
      "[9, 78, 80, 91]\n",
      "[41]\n",
      "[31, 42, 44, 55, 86]\n",
      "[51]\n",
      "[10, 60, 66, 71, 88]\n",
      "[19, 73, 83]\n",
      "[20, 36, 40, 47, 76, 79, 87]\n",
      "[52, 61]\n",
      "[32, 75, 92]\n",
      "[6, 95]\n",
      "[2, 3, 70, 99]\n",
      "[1, 35, 77, 84, 90]\n",
      "[30]\n",
      "[4, 13, 21, 27]\n",
      "[]\n",
      "[50]\n",
      "[12, 38]\n",
      "[25]\n",
      "[]\n",
      "[]\n",
      "[69]\n",
      "[]\n",
      "[]\n",
      "[]\n",
      "[]\n",
      "[26]\n",
      "[]\n",
      "[]\n",
      "[59]\n"
     ]
    }
   ],
   "source": [
    "# go through the drawn numbers\n",
    "winning_boards = []\n",
    "for nr in drawn_nrs:\n",
    "    my_array[np.where(my_array == nr)] = np.nan\n",
    "    winning_board = check_all_boards_already_won(my_array, winning_boards)\n",
    "    print(winning_board)\n",
    "    winning_boards.extend(winning_board)\n",
    "    if len(winning_boards) == 100:\n",
    "        break # make sure to stop when the last board reaches bingo"
   ]
  },
  {
   "cell_type": "code",
   "execution_count": 23,
   "id": "8f0dac0d",
   "metadata": {},
   "outputs": [
    {
     "data": {
      "text/plain": [
       "14877.0"
      ]
     },
     "execution_count": 23,
     "metadata": {},
     "output_type": "execute_result"
    }
   ],
   "source": [
    "solution2 = np.nansum(my_array[winning_boards[-1], :, :]) * nr\n",
    "solution2"
   ]
  }
 ],
 "metadata": {
  "kernelspec": {
   "display_name": "Python 3 (ipykernel)",
   "language": "python",
   "name": "python3"
  },
  "language_info": {
   "codemirror_mode": {
    "name": "ipython",
    "version": 3
   },
   "file_extension": ".py",
   "mimetype": "text/x-python",
   "name": "python",
   "nbconvert_exporter": "python",
   "pygments_lexer": "ipython3",
   "version": "3.9.2"
  }
 },
 "nbformat": 4,
 "nbformat_minor": 5
}
